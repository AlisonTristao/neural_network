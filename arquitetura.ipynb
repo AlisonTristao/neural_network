{
 "cells": [
  {
   "cell_type": "markdown",
   "metadata": {},
   "source": [
    "## site bolado"
   ]
  },
  {
   "cell_type": "markdown",
   "metadata": {},
   "source": [
    "https://medium.com/@siddheshb008/alexnet-architecture-explained-b6240c528bd5"
   ]
  },
  {
   "cell_type": "markdown",
   "metadata": {},
   "source": [
    "# Diagrama\n",
    "\n",
    "![](files/AlexNet_diagrama.png)"
   ]
  },
  {
   "cell_type": "markdown",
   "metadata": {},
   "source": [
    "# AlexNet Arquitetura\n",
    "\n",
    "![](files/AlexNet_arq.png)"
   ]
  },
  {
   "cell_type": "markdown",
   "metadata": {},
   "source": [
    "# Nossa arquitetura\n",
    "\n",
    "| Layer | Type           | Feature Map | Size         | Kernel Size | Stride | Activation |\n",
    "|-------|----------------|-------------|--------------|-------------|--------|------------|\n",
    "| Input | Image          | 1           | 96 x 96 x 3  | --          | -      | -          |\n",
    "| 1     | Convolution    | 24          | 22 x 22 x 3  | 11 x 11     | 4      | ReLU       |\n",
    "| --    | Max Pooling    | 24          | 22 x 22 x 3  | 3 x 3       | 2      | ReLU       |\n",
    "| 2     | Convolution    | 60          | 18 x 18 x 3  | 5 x 5       | 1      | ReLU       |\n",
    "| --    | Max Pooling    | 60          | 18 x 18 x 3  | 3 x 3       | 2      | ReLU       |\n",
    "| 3     | Convolution    | 90          | 16 x 16 x 3  | 3 x 3       | 1      | ReLU       |\n",
    "| 4     | Convolution    | 90          | 14 x 14 x 3  | 3 x 3       | 1      | ReLU       |\n",
    "| 5     | Convolution    | 60          | 12 x 12 x 3  | 3 x 3       | 1      | ReLU       |\n",
    "| --    | Max Pooling    | 60          | 12 x 12 x 3  | 3 x 3       | 2      | ReLU       |\n",
    "| 6     | FC             | --          | 9004         | --          | --     | ReLU       |\n",
    "| 7     | FC             | --          | 4002         | --          | --     | ReLU       |\n",
    "| 8     | FC             | --          | 4002         | --          | --     | ReLU       |\n",
    "| Output| FC             | --          | 12           | --          | --     | Softmax    |\n",
    "\n"
   ]
  }
 ],
 "metadata": {
  "kernelspec": {
   "display_name": "p3.11",
   "language": "python",
   "name": "python3"
  },
  "language_info": {
   "name": "python",
   "version": "3.10.14"
  }
 },
 "nbformat": 4,
 "nbformat_minor": 2
}
